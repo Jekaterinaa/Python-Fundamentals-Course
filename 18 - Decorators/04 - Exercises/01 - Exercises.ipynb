{
 "cells": [
  {
   "cell_type": "markdown",
   "id": "played-luxembourg",
   "metadata": {},
   "source": [
    "### Solutions"
   ]
  },
  {
   "cell_type": "markdown",
   "id": "limited-cosmetic",
   "metadata": {},
   "source": [
    "#### Question 1"
   ]
  },
  {
   "cell_type": "markdown",
   "id": "skilled-royal",
   "metadata": {},
   "source": [
    "Write a decorator that can be used to print out how long a function takes to run."
   ]
  },
  {
   "cell_type": "code",
   "execution_count": 11,
   "id": "3a1a9f64",
   "metadata": {},
   "outputs": [
    {
     "name": "stdout",
     "output_type": "stream",
     "text": [
      "add took 1.4579854905605316e-06 seconds to calculate.\n"
     ]
    },
    {
     "data": {
      "text/plain": [
       "6"
      ]
     },
     "execution_count": 11,
     "metadata": {},
     "output_type": "execute_result"
    }
   ],
   "source": [
    "from time import perf_counter\n",
    "\n",
    "def log_time(function):\n",
    "    def inner(*args, **kwargs):\n",
    "        start = perf_counter()\n",
    "        result = function(*args, **kwargs)\n",
    "        end = perf_counter()\n",
    "        print(f'{function.__name__} took {end - start} seconds to calculate.')\n",
    "        return result\n",
    "    return inner\n",
    "                 \n",
    "@log_time\n",
    "def add(a,b,c):\n",
    "    return a + b + c\n",
    "          \n",
    "add(1 , 2, 3)"
   ]
  },
  {
   "cell_type": "markdown",
   "id": "friendly-county",
   "metadata": {},
   "source": [
    "#### Question 2"
   ]
  },
  {
   "cell_type": "markdown",
   "id": "removed-there",
   "metadata": {},
   "source": [
    "We have several functions in our code that perform some calculations and return a numeric result, possibly `float`, `int` or even `Decimal`."
   ]
  },
  {
   "cell_type": "markdown",
   "id": "middle-politics",
   "metadata": {},
   "source": [
    "We actually want to make sure that all results from each of these functions are rounded to some number of digits after the decimal point (precision), and always returned as a `float`."
   ]
  },
  {
   "cell_type": "markdown",
   "id": "cloudy-robert",
   "metadata": {},
   "source": [
    "But every time our program runs, that precision could change. Also, we'd rather not have to change every function we have, since at some point in the future we may want to return `Decimal` objects, and not `floats` - so we want to minimize how much code we would have to change to accomodate all this."
   ]
  },
  {
   "cell_type": "markdown",
   "id": "increasing-occasion",
   "metadata": {},
   "source": [
    "For example, we might a variable in our code that defines the precision, and could be changed any time we run our code:"
   ]
  },
  {
   "cell_type": "code",
   "execution_count": 1,
   "id": "common-maker",
   "metadata": {},
   "outputs": [],
   "source": [
    "PRECISION = 2"
   ]
  },
  {
   "cell_type": "markdown",
   "id": "certified-compiler",
   "metadata": {},
   "source": [
    "Suppose we have the following functions already defined:"
   ]
  },
  {
   "cell_type": "code",
   "execution_count": 46,
   "id": "christian-centre",
   "metadata": {},
   "outputs": [
    {
     "ename": "NameError",
     "evalue": "name 'inner' is not defined",
     "output_type": "error",
     "traceback": [
      "\u001b[0;31m---------------------------------------------------------------------------\u001b[0m",
      "\u001b[0;31mNameError\u001b[0m                                 Traceback (most recent call last)",
      "Cell \u001b[0;32mIn[46], line 47\u001b[0m\n\u001b[1;32m     44\u001b[0m             \u001b[38;5;28;01mreturn\u001b[39;00m rounded\n\u001b[1;32m     45\u001b[0m     \u001b[38;5;28;01mreturn\u001b[39;00m inner\n\u001b[0;32m---> 47\u001b[0m \u001b[38;5;129m@normalize\u001b[39m\u001b[43m(\u001b[49m\u001b[38;5;241;43m5\u001b[39;49m\u001b[43m)\u001b[49m\n\u001b[1;32m     48\u001b[0m \u001b[38;5;28;01mdef\u001b[39;00m \u001b[38;5;21mperc_diff\u001b[39m(x, y):\n\u001b[1;32m     49\u001b[0m     \u001b[38;5;28;01mtry\u001b[39;00m:\n\u001b[1;32m     50\u001b[0m         \u001b[38;5;28;01mreturn\u001b[39;00m (y\u001b[38;5;241m-\u001b[39mx) \u001b[38;5;241m/\u001b[39m x \u001b[38;5;241m*\u001b[39m \u001b[38;5;241m100\u001b[39m\n",
      "Cell \u001b[0;32mIn[46], line 45\u001b[0m, in \u001b[0;36mnormalize\u001b[0;34m(precision)\u001b[0m\n\u001b[1;32m     43\u001b[0m         rounded \u001b[38;5;241m=\u001b[39m \u001b[38;5;28mround\u001b[39m(\u001b[38;5;28mfloat\u001b[39m(result), precision) \u001b[38;5;28;01mif\u001b[39;00m \u001b[38;5;28mtype\u001b[39m(result) \u001b[38;5;241m==\u001b[39m \u001b[38;5;28mfloat\u001b[39m \u001b[38;5;28;01melse\u001b[39;00m result\n\u001b[1;32m     44\u001b[0m         \u001b[38;5;28;01mreturn\u001b[39;00m rounded\n\u001b[0;32m---> 45\u001b[0m \u001b[38;5;28;01mreturn\u001b[39;00m \u001b[43minner\u001b[49m\n",
      "\u001b[0;31mNameError\u001b[0m: name 'inner' is not defined"
     ]
    }
   ],
   "source": [
    "from decimal import Decimal\n",
    "\n",
    "PRECISION = 5\n",
    "\n",
    "def perc_diff(x, y):\n",
    "    try:\n",
    "        return (y-x) / x * 100\n",
    "    except ZeroDivisionError:\n",
    "        return 0\n",
    "    \n",
    "def sum_squares(*args):\n",
    "    return sum(x**2 for x in args)\n",
    "\n",
    "def avg(*args):\n",
    "    if len(args) == 0:\n",
    "        return 0\n",
    "    \n",
    "    numbers = [Decimal(x) for x in args]\n",
    "    sum_ = sum(numbers)\n",
    "    return sum_ / len(numbers)\n",
    "\n",
    "# def normalize(function):\n",
    "#     def inner(*args, **kwargs):\n",
    "#         result = function(*args, **kwargs)\n",
    "#         rounded = round(float(result), PRECISION) if type(result) == float else result\n",
    "#         return rounded\n",
    "#     return inner\n",
    "\n",
    "# @normalize\n",
    "# def perc_diff(x, y):\n",
    "#     try:\n",
    "#         return (y-x) / x * 100\n",
    "#     except ZeroDivisionError:\n",
    "#         return 0\n",
    "\n",
    "# perc_diff(2.6 ,7.3)\n",
    "\n",
    "# Question 4\n",
    "def normalize(precision):\n",
    "    def decorator(function):\n",
    "        def inner(*args, **kwargs):\n",
    "            result = function(*args, **kwargs)\n",
    "            rounded = round(float(result), precision) if type(result) == float else result\n",
    "            return rounded\n",
    "    return inner\n",
    "\n",
    "@normalize(5)\n",
    "def perc_diff(x, y):\n",
    "    try:\n",
    "        return (y-x) / x * 100\n",
    "    except ZeroDivisionError:\n",
    "        return 0\n",
    "    \n",
    "perc_diff(1.5, 7.9)"
   ]
  },
  {
   "cell_type": "markdown",
   "id": "mechanical-extra",
   "metadata": {},
   "source": [
    "Write a decorator named `normalize` that can be used to decorate these functions to ensure that the result is always returned as a `float` with a precision defined by some global variable `PRECISION`."
   ]
  },
  {
   "cell_type": "markdown",
   "id": "sized-aaron",
   "metadata": {},
   "source": [
    "#### Question 3"
   ]
  },
  {
   "cell_type": "markdown",
   "id": "meaningful-creativity",
   "metadata": {},
   "source": [
    "Sometimes we have functions that get called often with the same argument values but take a long time to run."
   ]
  },
  {
   "cell_type": "markdown",
   "id": "dramatic-editing",
   "metadata": {},
   "source": [
    "If those functions are deterministic (i.e. passing the same arguments will always result in the same return value), then we can get a huge performance benefit by implementing a caching mechanism."
   ]
  },
  {
   "cell_type": "markdown",
   "id": "fewer-shock",
   "metadata": {},
   "source": [
    "This function simulates a long running function:"
   ]
  },
  {
   "cell_type": "code",
   "execution_count": 44,
   "id": "freelance-sponsorship",
   "metadata": {},
   "outputs": [
    {
     "data": {
      "text/plain": [
       "2.0051234160200693"
      ]
     },
     "execution_count": 44,
     "metadata": {},
     "output_type": "execute_result"
    }
   ],
   "source": [
    "from time import sleep\n",
    "from functools import lru_cache\n",
    "from timeit import timeit\n",
    "\n",
    "@lru_cache(maxsize = 2)\n",
    "def add(x, y):\n",
    "    sleep(2)\n",
    "    return x + y\n",
    "\n",
    "timeit('add(1,2)', globals=globals(), number=10)\n",
    "\n"
   ]
  },
  {
   "cell_type": "markdown",
   "id": "fatty-christianity",
   "metadata": {},
   "source": [
    "As you can see the function is deterministic - the result will always be the same for the same arguments."
   ]
  },
  {
   "cell_type": "markdown",
   "id": "controlling-composite",
   "metadata": {},
   "source": [
    "Use Python's LRU caching decorator to help improve performance when this function is called multiple times with the same arguments."
   ]
  },
  {
   "cell_type": "markdown",
   "id": "incorrect-protein",
   "metadata": {},
   "source": [
    "Then use `timeit` to test how performance is affected."
   ]
  },
  {
   "cell_type": "markdown",
   "id": "nervous-mozambique",
   "metadata": {},
   "source": [
    "#### Question 4"
   ]
  },
  {
   "cell_type": "markdown",
   "id": "latin-radius",
   "metadata": {},
   "source": [
    "This is kind of a \"bonus\" exercise. It's a follow-up to Question 2."
   ]
  },
  {
   "cell_type": "markdown",
   "id": "partial-mustang",
   "metadata": {},
   "source": [
    "It's also complicated, so don't worry if you are unable to do this one!"
   ]
  },
  {
   "cell_type": "markdown",
   "id": "trying-curve",
   "metadata": {},
   "source": [
    "In Question 2, we created a decorator that used a global variable for the precision."
   ]
  },
  {
   "cell_type": "markdown",
   "id": "collected-tenant",
   "metadata": {},
   "source": [
    "Here, we would rather define a decorator that can take that precision as an argument, i.e. we could do something like this:"
   ]
  },
  {
   "cell_type": "markdown",
   "id": "alike-haven",
   "metadata": {},
   "source": [
    "```\n",
    "@normalize(2)\n",
    "def perc_diff(x, y):\n",
    "    try:\n",
    "        return (y-x) / x * 100\n",
    "    except ZeroDivisionError:\n",
    "        return 0\n",
    "    \n",
    "@normalize(4)\n",
    "def sum_squares(*args):\n",
    "    return sum(x**2 for x in args)\n",
    "\n",
    "@normalize(8)\n",
    "def avg(*args):\n",
    "    if len(args) == 0:\n",
    "        return 0\n",
    "    \n",
    "    numbers = [Decimal(x) for x in args]\n",
    "    sum_ = sum(numbers)\n",
    "    return sum_ / len(numbers)\n",
    "```"
   ]
  },
  {
   "cell_type": "markdown",
   "id": "lovely-philosophy",
   "metadata": {},
   "source": [
    "As a hint, remember how we created \"partial\" functions in a previous exercise?"
   ]
  },
  {
   "cell_type": "markdown",
   "id": "advisory-millennium",
   "metadata": {},
   "source": [
    "What we'll want to do here is not write a decorator function directly, but instead write a function that will **create** a decorator function, with the precision captured in the decorator function (which will itself then, be a closure)."
   ]
  },
  {
   "cell_type": "markdown",
   "id": "civic-favorite",
   "metadata": {},
   "source": [
    "Something like this:"
   ]
  },
  {
   "cell_type": "markdown",
   "id": "figured-singing",
   "metadata": {},
   "source": [
    "```\n",
    "def normalize(precision):\n",
    "    def decorator(fn):\n",
    "        def inner(*args, **kwargs):\n",
    "            # precision passed to normalize is available here\n",
    "            return result\n",
    "        return inner\n",
    "    return decorator\n",
    "```"
   ]
  }
 ],
 "metadata": {
  "kernelspec": {
   "display_name": "Python 3 (ipykernel)",
   "language": "python",
   "name": "python3"
  },
  "language_info": {
   "codemirror_mode": {
    "name": "ipython",
    "version": 3
   },
   "file_extension": ".py",
   "mimetype": "text/x-python",
   "name": "python",
   "nbconvert_exporter": "python",
   "pygments_lexer": "ipython3",
   "version": "3.11.4"
  }
 },
 "nbformat": 4,
 "nbformat_minor": 5
}

{
 "cells": [
  {
   "cell_type": "markdown",
   "id": "enclosed-distance",
   "metadata": {},
   "source": [
    "### Solutions"
   ]
  },
  {
   "cell_type": "markdown",
   "id": "metric-checkout",
   "metadata": {},
   "source": [
    "#### Question 1"
   ]
  },
  {
   "cell_type": "markdown",
   "id": "stunning-accident",
   "metadata": {},
   "source": [
    "The following code is meant to calculate the smallest absolute value of a given sequence of numbers."
   ]
  },
  {
   "cell_type": "code",
   "execution_count": 7,
   "id": "affiliated-decade",
   "metadata": {},
   "outputs": [
    {
     "name": "stdout",
     "output_type": "stream",
     "text": [
      "Handled error: list index out of range\n",
      "Minimum is: 0\n"
     ]
    }
   ],
   "source": [
    "# values = [1, 2, 3, 4]\n",
    "\n",
    "# minimum = abs(values[0])\n",
    "# for value in values[1:]:\n",
    "#     if abs(value) < minimum:\n",
    "#         minimum = abs(value)\n",
    "# print(f'Minimum is: {minimum}')\n",
    "\n",
    "values = []\n",
    "\n",
    "try: \n",
    "    minimum = abs(values[0])\n",
    "    for value in values[1:]:\n",
    "        if abs(value) < minimum:\n",
    "            minimum = abs(value)\n",
    "except IndexError as ex:\n",
    "    print (f'Handled error: {ex}')\n",
    "    minimum = 0\n",
    "print(f'Minimum is: {minimum}')"
   ]
  },
  {
   "cell_type": "markdown",
   "id": "vocal-notebook",
   "metadata": {},
   "source": [
    "The problem is that if the sequence is empty, it will raise an exception.\n",
    "\n",
    "Write code such that if the `values` sequence is empty, the calculated minimum is printed as `0`."
   ]
  },
  {
   "cell_type": "markdown",
   "id": "eligible-density",
   "metadata": {},
   "source": [
    "#### Question 2"
   ]
  },
  {
   "cell_type": "markdown",
   "id": "controlled-aluminum",
   "metadata": {},
   "source": [
    "Write code that raises the built-in Python exception `ValueError` with a custom message, and catches the exception and prints the custom message."
   ]
  },
  {
   "cell_type": "code",
   "execution_count": null,
   "id": "b4f63434",
   "metadata": {},
   "outputs": [],
   "source": [
    "try:\n",
    "    raise ValueError('You have no value')\n"
   ]
  }
 ],
 "metadata": {
  "kernelspec": {
   "display_name": "Python 3 (ipykernel)",
   "language": "python",
   "name": "python3"
  },
  "language_info": {
   "codemirror_mode": {
    "name": "ipython",
    "version": 3
   },
   "file_extension": ".py",
   "mimetype": "text/x-python",
   "name": "python",
   "nbconvert_exporter": "python",
   "pygments_lexer": "ipython3",
   "version": "3.11.4"
  }
 },
 "nbformat": 4,
 "nbformat_minor": 5
}

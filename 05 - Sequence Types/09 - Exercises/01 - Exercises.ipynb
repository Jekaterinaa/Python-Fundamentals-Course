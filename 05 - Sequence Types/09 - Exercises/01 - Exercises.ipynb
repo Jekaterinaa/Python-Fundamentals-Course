{
 "cells": [
  {
   "cell_type": "markdown",
   "id": "animal-encoding",
   "metadata": {},
   "source": [
    "### Exercises"
   ]
  },
  {
   "cell_type": "markdown",
   "id": "editorial-church",
   "metadata": {},
   "source": [
    "#### Exercise 1"
   ]
  },
  {
   "cell_type": "markdown",
   "id": "coordinated-victor",
   "metadata": {},
   "source": [
    "Given the following string:"
   ]
  },
  {
   "cell_type": "code",
   "execution_count": 44,
   "id": "quick-symposium",
   "metadata": {},
   "outputs": [
    {
     "name": "stdout",
     "output_type": "stream",
     "text": [
      "\n"
     ]
    }
   ],
   "source": [
    "s = 'FfEeDdCcBbAa'\n",
    "reversed = s[-1:0:]\n",
    "print(reversed)"
   ]
  },
  {
   "cell_type": "markdown",
   "id": "imported-crown",
   "metadata": {},
   "source": [
    "Create two new variables that contain just the lower and upper case letters of `s` respectively, in the correct alphabetical order, i.e:\n",
    "\n",
    "- `'ABCDEF'`\n",
    "- `'abcdef'`"
   ]
  },
  {
   "cell_type": "code",
   "execution_count": 62,
   "id": "da8a8a4d",
   "metadata": {},
   "outputs": [
    {
     "name": "stdout",
     "output_type": "stream",
     "text": [
      "abcdef\n",
      "ABCDEF\n"
     ]
    }
   ],
   "source": [
    "s = 'FfEeDdCcBbAa'\n",
    "reversed = s[::-2]\n",
    "capitalized_reversed = s[-2::-2]\n",
    "print(reversed)\n",
    "print(capitalized_reversed)"
   ]
  },
  {
   "cell_type": "markdown",
   "id": "copyrighted-spirit",
   "metadata": {},
   "source": [
    "#### Exercise 2"
   ]
  },
  {
   "cell_type": "markdown",
   "id": "powered-gazette",
   "metadata": {},
   "source": [
    "Concatenate the following tuples into a single one, but replacing the odd values with zeros (`0`)."
   ]
  },
  {
   "cell_type": "code",
   "execution_count": 14,
   "id": "interior-webster",
   "metadata": {},
   "outputs": [
    {
     "name": "stdout",
     "output_type": "stream",
     "text": [
      "(0, 2, 0, 4, 0, 6, 0, 8, 0, 10, 0, 12, 0, 14, 0, 16, 0)\n"
     ]
    }
   ],
   "source": [
    "t1 = 1, 2, 3, 4, 5, 6\n",
    "t2 = 7, 8, 9, 10\n",
    "t3 = 11, 12, 13, 14, 15, 16, 17\n",
    "\n",
    "l1 = list(t1)\n",
    "l2 = list(t2)\n",
    "l3 = list(t3)\n",
    "\n",
    "l1.extend(l2)\n",
    "l1.extend(l3)\n",
    "\n",
    "l1[::2] = [0] * (len(l1) // 2 + 1)\n",
    "result = tuple(l1)\n",
    "print(result)\n",
    "\n"
   ]
  },
  {
   "cell_type": "markdown",
   "id": "allied-ladder",
   "metadata": {},
   "source": [
    "You can assume that every tuple is a sequence of consecutive integers starting with an odd integer.\n",
    "\n",
    "Try to write your code to be as generic as possible."
   ]
  },
  {
   "cell_type": "markdown",
   "id": "controversial-crest",
   "metadata": {},
   "source": [
    "#### Exercise 3"
   ]
  },
  {
   "cell_type": "markdown",
   "id": "lucky-divide",
   "metadata": {},
   "source": [
    "Given the following matrix:"
   ]
  },
  {
   "cell_type": "code",
   "execution_count": 15,
   "id": "israeli-porter",
   "metadata": {},
   "outputs": [
    {
     "name": "stdout",
     "output_type": "stream",
     "text": [
      "[[1, 0, 0], [0, 1, 0], [0, 0, 1]]\n"
     ]
    }
   ],
   "source": [
    "m = [\n",
    "    [0, 0, 0],\n",
    "    [0, 0, 0],\n",
    "    [0, 0, 0]\n",
    "]\n",
    "\n",
    "m[0][0] = 1\n",
    "m[1][1] = 1\n",
    "m[2][2] = 1\n",
    "print(m)"
   ]
  },
  {
   "cell_type": "markdown",
   "id": "independent-blast",
   "metadata": {},
   "source": [
    "Make this matrix into an identity matrix (setting the diagonal elements to `1`).\n",
    "\n",
    "Your code should *mutate* `m`."
   ]
  },
  {
   "cell_type": "code",
   "execution_count": 17,
   "id": "8b52266f",
   "metadata": {},
   "outputs": [
    {
     "name": "stdout",
     "output_type": "stream",
     "text": [
      "[[1, 0, 0], [0, 1, 0], [0, 0, 1]]\n",
      "[[0, 0, 0], [0, 0, 0], [0, 0, 0]]\n"
     ]
    }
   ],
   "source": [
    "m = [\n",
    "    [0, 0, 0],\n",
    "    [0, 0, 0],\n",
    "    [0, 0, 0]\n",
    "]\n",
    "\n",
    "from copy import deepcopy\n",
    "matrix_copy = deepcopy(m)\n",
    "\n",
    "matrix_copy[0][0] = 1\n",
    "matrix_copy[1][1] = 1\n",
    "matrix_copy[2][2] = 1\n",
    "print(matrix_copy)\n",
    "print(m)"
   ]
  },
  {
   "cell_type": "markdown",
   "id": "damaged-response",
   "metadata": {},
   "source": [
    "#### Exercise 4"
   ]
  },
  {
   "cell_type": "markdown",
   "id": "separated-april",
   "metadata": {},
   "source": [
    "Do the same problem as Exercise 3, but do **not** mutate `m`."
   ]
  },
  {
   "cell_type": "markdown",
   "id": "respiratory-uniform",
   "metadata": {},
   "source": [
    "#### Exercise 5"
   ]
  },
  {
   "cell_type": "markdown",
   "id": "heard-hurricane",
   "metadata": {},
   "source": [
    "You are given a list of tuples that each contain 4 values:\n",
    "\n",
    "```\n",
    "(amount, currency, target_currency, exchange_rate)\n",
    "```"
   ]
  },
  {
   "cell_type": "code",
   "execution_count": 28,
   "id": "positive-welcome",
   "metadata": {},
   "outputs": [
    {
     "name": "stdout",
     "output_type": "stream",
     "text": [
      "100\n",
      "100 USD is equal to 83.0 EUR\n"
     ]
    }
   ],
   "source": [
    "data = [\n",
    "    (100, 'USD', 'EUR', 0.83),\n",
    "    (100, 'USD', 'CAD', 1.27),\n",
    "    (100, 'CAD', 'EUR', 0.65)\n",
    "]\n",
    "\n",
    "amount, from_currenc, to_currenc, to = data[0]\n",
    "print(amount)\n",
    "print(f'{amount} {from_currenc} is equal to {to * amount} {to_currenc}')\n"
   ]
  },
  {
   "cell_type": "markdown",
   "id": "alternative-lobby",
   "metadata": {},
   "source": [
    "Write code that converts the `amount` from its `currency` to its `target_currency` using the `exchange_rate` (which is the exchange rate for `1` `currency` in `target_currency`).\n",
    "\n",
    "Try to make your code as generic as possible (we'll see later how to use loops so we don't have to write three separate statements).\n",
    "\n",
    "In other words, you'll need three blocks of code here that are essentially almost identical.\n",
    "\n",
    "Use unpacking to assign the values in each tuple to variables.\n",
    "\n",
    "Your result for each row should print something like this out:\n",
    "\n",
    "```\n",
    "100 USD = 83 EUR\n",
    "```\n"
   ]
  }
 ],
 "metadata": {
  "kernelspec": {
   "display_name": "Python 3 (ipykernel)",
   "language": "python",
   "name": "python3"
  },
  "language_info": {
   "codemirror_mode": {
    "name": "ipython",
    "version": 3
   },
   "file_extension": ".py",
   "mimetype": "text/x-python",
   "name": "python",
   "nbconvert_exporter": "python",
   "pygments_lexer": "ipython3",
   "version": "3.11.4"
  }
 },
 "nbformat": 4,
 "nbformat_minor": 5
}

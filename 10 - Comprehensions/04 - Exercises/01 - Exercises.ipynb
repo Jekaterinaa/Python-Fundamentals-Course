{
 "cells": [
  {
   "cell_type": "markdown",
   "id": "0ec0d9aa",
   "metadata": {},
   "source": [
    "### Exercises"
   ]
  },
  {
   "cell_type": "markdown",
   "id": "aec4ba73",
   "metadata": {},
   "source": [
    "#### Question 1"
   ]
  },
  {
   "cell_type": "markdown",
   "id": "6a12c15a",
   "metadata": {},
   "source": [
    "Given the following data:"
   ]
  },
  {
   "cell_type": "code",
   "execution_count": 1,
   "id": "8df316b7",
   "metadata": {},
   "outputs": [],
   "source": [
    "data = [\n",
    "    {'open': 100, 'high': 120, 'low': 90, 'close': 110},\n",
    "    {'open': 110, 'high': 130, 'low': 80, 'close': 120},\n",
    "    {'open': 120, 'high': 140, 'low': 70, 'close': 130},\n",
    "    {'open': 130, 'high': 150, 'low': 60, 'close': 140},\n",
    "]"
   ]
  },
  {
   "cell_type": "markdown",
   "id": "589081b2",
   "metadata": {},
   "source": [
    "Re-write the following code using a comprehension:"
   ]
  },
  {
   "cell_type": "code",
   "execution_count": 5,
   "id": "df66a466",
   "metadata": {},
   "outputs": [
    {
     "name": "stdout",
     "output_type": "stream",
     "text": [
      "[30, 50, 70, 90]\n"
     ]
    }
   ],
   "source": [
    "data = [\n",
    "    {'open': 100, 'high': 120, 'low': 90, 'close': 110},\n",
    "    {'open': 110, 'high': 130, 'low': 80, 'close': 120},\n",
    "    {'open': 120, 'high': 140, 'low': 70, 'close': 130},\n",
    "    {'open': 130, 'high': 150, 'low': 60, 'close': 140},\n",
    "]\n",
    "\n",
    "# ranges = []\n",
    "# for d in data:\n",
    "#     ranges.append(d['high'] - d['low'])\n",
    "# print(ranges)\n",
    "    \n",
    "ranges = [d['high'] - d['low'] for d in data ]\n",
    "print(ranges)"
   ]
  },
  {
   "cell_type": "markdown",
   "id": "9f4cb740",
   "metadata": {},
   "source": [
    "#### Question 2"
   ]
  },
  {
   "cell_type": "markdown",
   "id": "92cfa610",
   "metadata": {},
   "source": [
    "Find all the numbers from 1 to 100 (inclusive) that are divisible by any single digit except 1."
   ]
  },
  {
   "cell_type": "markdown",
   "id": "a213f03f",
   "metadata": {},
   "source": [
    "For example, 22 is divisible by 2, so it should get included in the result. But 11 is not divisible by any of the digits 2-9, so it should not get included."
   ]
  },
  {
   "cell_type": "markdown",
   "id": "3c2b9d16",
   "metadata": {},
   "source": [
    "Your solution should use comprehensions. (Hint: you may need nested loops in your comprehension)"
   ]
  },
  {
   "cell_type": "markdown",
   "id": "6a9beebe",
   "metadata": {},
   "source": [
    "Next, find all the numbers from 1 to 100 (inclusive) that are not in the list of numbers you just generated."
   ]
  },
  {
   "cell_type": "markdown",
   "id": "f085e0ad",
   "metadata": {},
   "source": [
    "If your code works correctly, you should end up with this result:\n",
    "\n",
    "```\n",
    "{1, 11, 13, 17, 19, 23, 29, 31, 37, 41, 43, 47, 53, 59, 61, 67, 71, 73, 79, 83, 89, 97}\n",
    "```"
   ]
  },
  {
   "cell_type": "code",
   "execution_count": 9,
   "id": "a2a1418a",
   "metadata": {},
   "outputs": [
    {
     "ename": "ZeroDivisionError",
     "evalue": "integer modulo by zero",
     "output_type": "error",
     "traceback": [
      "\u001b[0;31m---------------------------------------------------------------------------\u001b[0m",
      "\u001b[0;31mZeroDivisionError\u001b[0m                         Traceback (most recent call last)",
      "Cell \u001b[0;32mIn[9], line 7\u001b[0m\n\u001b[1;32m      5\u001b[0m split \u001b[38;5;241m=\u001b[39m [\u001b[38;5;28mint\u001b[39m(i) \u001b[38;5;28;01mfor\u001b[39;00m i \u001b[38;5;129;01min\u001b[39;00m \u001b[38;5;28mstr\u001b[39m(number)]\n\u001b[1;32m      6\u001b[0m \u001b[38;5;28;01mfor\u001b[39;00m digit \u001b[38;5;129;01min\u001b[39;00m split:\n\u001b[0;32m----> 7\u001b[0m     \u001b[38;5;28;01mif\u001b[39;00m \u001b[43mnumber\u001b[49m\u001b[43m \u001b[49m\u001b[38;5;241;43m%\u001b[39;49m\u001b[43m \u001b[49m\u001b[43mdigit\u001b[49m \u001b[38;5;241m==\u001b[39m \u001b[38;5;241m0\u001b[39m:\n\u001b[1;32m      8\u001b[0m         numbers\u001b[38;5;241m.\u001b[39mappend(number)\n\u001b[1;32m      9\u001b[0m         \u001b[38;5;28mnext\u001b[39m\n",
      "\u001b[0;31mZeroDivisionError\u001b[0m: integer modulo by zero"
     ]
    }
   ],
   "source": [
    "# Traditional:\n",
    "numbers = {}\n",
    "\n",
    "for number in range(101):\n",
    "    split = [int(i) for i in str(number)]\n",
    "    for digit in split:\n",
    "        if number % digit == 0:\n",
    "            numbers.append(number)\n",
    "            next\n",
    "print(numbers)\n"
   ]
  },
  {
   "cell_type": "markdown",
   "id": "a0659046",
   "metadata": {},
   "source": [
    "#### Question 3"
   ]
  },
  {
   "cell_type": "markdown",
   "id": "3db0f56d",
   "metadata": {},
   "source": [
    "You are given the following data:"
   ]
  },
  {
   "cell_type": "code",
   "execution_count": 3,
   "id": "ab7f5fc6",
   "metadata": {},
   "outputs": [],
   "source": [
    "data = [\n",
    "    {'symbol': 'ABCD', 'name': 'ABCD Company', 'ranking': 2, 'risk': 0.2},\n",
    "    {'symbol': 'BCDE', 'name': 'BCDE Company', 'ranking': 5, 'risk': 0.2},\n",
    "    {'symbol': 'CDEF', 'name': 'CDEF Company', 'ranking': 8, 'risk': 0.5},\n",
    "    {'symbol': 'DEFG', 'name': 'DEFG Company', 'ranking': 7, 'risk': 0.8},\n",
    "    {'symbol': 'EFGH', 'name': 'EFGH Company', 'ranking': 9, 'risk': 0.6},\n",
    "    {'symbol': 'FGHI', 'name': 'FGHI Company', 'ranking': 10, 'risk': 0.1},\n",
    "    {'symbol': 'GHIJ', 'name': 'GHIJ Company', 'ranking': 3, 'risk': 0.6},\n",
    "    {'symbol': 'HIJK', 'name': 'HIJK Company', 'ranking': 5, 'risk': 0.5},\n",
    "    {'symbol': 'IJKL', 'name': 'IJKL Company', 'ranking': 5, 'risk': 0.7},\n",
    "    {'symbol': 'JKLM', 'name': 'JKLM Company', 'ranking': 6, 'risk': 0.9},\n",
    "    {'symbol': 'KLMN', 'name': 'KLMN Company', 'ranking': 6, 'risk': 0.4},\n",
    "    {'symbol': 'LMNO', 'name': 'LMNO Company', 'ranking': 8, 'risk': 0.4},\n",
    "    {'symbol': 'MNOP', 'name': 'MNOP Company', 'ranking': 8, 'risk': 0.2},\n",
    "    {'symbol': 'NOPQ', 'name': 'NOPQ Company', 'ranking': 1, 'risk': 0.5},\n",
    "    {'symbol': 'OPQR', 'name': 'OPQR Company', 'ranking': 9, 'risk': 0.2},\n",
    "    {'symbol': 'PQRS', 'name': 'PQRS Company', 'ranking': 10, 'risk': 0.9},\n",
    "    {'symbol': 'QRST', 'name': 'QRST Company', 'ranking': 3, 'risk': 0.4},\n",
    "    {'symbol': 'RSTU', 'name': 'RSTU Company', 'ranking': 7, 'risk': 0.3},\n",
    "    {'symbol': 'STUV', 'name': 'STUV Company', 'ranking': 8, 'risk': 0.1},\n",
    "    {'symbol': 'TUVW', 'name': 'TUVW Company', 'ranking': 7, 'risk': 0.9}\n",
    "]"
   ]
  },
  {
   "cell_type": "markdown",
   "id": "7c358629",
   "metadata": {},
   "source": [
    "Write code that does these two things:\n",
    "- creates a new list of of dictionaries where the ranking is at least `5`, and the risk is less than `0.6`\n",
    "- these dictionaries should contain the `symbol` and a calculated key, named `weighted`, which is the result of dividing `ranking` by `risk`. (You should round this value two decimal places). Do **not** mutate the original `data` list or dictionaries in any way."
   ]
  }
 ],
 "metadata": {
  "kernelspec": {
   "display_name": "Python 3 (ipykernel)",
   "language": "python",
   "name": "python3"
  },
  "language_info": {
   "codemirror_mode": {
    "name": "ipython",
    "version": 3
   },
   "file_extension": ".py",
   "mimetype": "text/x-python",
   "name": "python",
   "nbconvert_exporter": "python",
   "pygments_lexer": "ipython3",
   "version": "3.11.4"
  }
 },
 "nbformat": 4,
 "nbformat_minor": 5
}

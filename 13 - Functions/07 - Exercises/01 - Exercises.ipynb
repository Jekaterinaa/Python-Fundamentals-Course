{
 "cells": [
  {
   "cell_type": "markdown",
   "id": "alert-document",
   "metadata": {},
   "source": [
    "### Solutions"
   ]
  },
  {
   "cell_type": "markdown",
   "id": "descending-cursor",
   "metadata": {},
   "source": [
    "#### Question 1"
   ]
  },
  {
   "cell_type": "markdown",
   "id": "fundamental-seven",
   "metadata": {},
   "source": [
    "Write a function that takes a variable number of arguments (with a minimum of one), and returns the average of these numbers."
   ]
  },
  {
   "cell_type": "code",
   "execution_count": 11,
   "id": "5a61996f",
   "metadata": {},
   "outputs": [
    {
     "data": {
      "text/plain": [
       "3.0"
      ]
     },
     "execution_count": 11,
     "metadata": {},
     "output_type": "execute_result"
    }
   ],
   "source": [
    "def average(*args):\n",
    "    return sum(args) / len(args)\n",
    "    \n",
    "average(1,2,3,4,5)"
   ]
  },
  {
   "cell_type": "markdown",
   "id": "atlantic-edgar",
   "metadata": {},
   "source": [
    "#### Question 2"
   ]
  },
  {
   "cell_type": "code",
   "execution_count": null,
   "id": "77141fef",
   "metadata": {},
   "outputs": [],
   "source": []
  },
  {
   "cell_type": "markdown",
   "id": "alive-concrete",
   "metadata": {},
   "source": [
    "Write a function that returns a string based on two input arguments:\n",
    "- a character or string to be repeated\n",
    "- the number of times the string should be repeated"
   ]
  },
  {
   "cell_type": "markdown",
   "id": "green-opinion",
   "metadata": {},
   "source": [
    "The function should be such that the number of repetitions defaults to `10` if it is not passed by the caller, and the default character to be repeated should be a negative sign (`-`).\n",
    "\n",
    "Call your function `separator`.\n",
    "\n",
    "Use a keyword-only argument for the string argument."
   ]
  },
  {
   "cell_type": "code",
   "execution_count": 21,
   "id": "6b8575cf",
   "metadata": {},
   "outputs": [
    {
     "data": {
      "text/plain": [
       "'mattmattmatt'"
      ]
     },
     "execution_count": 21,
     "metadata": {},
     "output_type": "execute_result"
    }
   ],
   "source": [
    "def seperator(*, str = \"-\", times = 10):\n",
    "    return times * str\n",
    "\n",
    "seperator(str = \"matt\", times = 3)\n"
   ]
  },
  {
   "cell_type": "markdown",
   "id": "elegant-glass",
   "metadata": {},
   "source": [
    "#### Question 3"
   ]
  },
  {
   "cell_type": "markdown",
   "id": "thrown-theology",
   "metadata": {},
   "source": [
    "Write a lambda function that returns the number of unique elements in an iterable. This could be the number of unique characters in a string, or the number of unique elements in a list, tuple, etc.\n",
    "\n",
    "If the iterable received by the lambda function is empty, then it should return `0`."
   ]
  },
  {
   "cell_type": "code",
   "execution_count": 36,
   "id": "7d539336",
   "metadata": {},
   "outputs": [
    {
     "name": "stdout",
     "output_type": "stream",
     "text": [
      "5\n",
      "0\n",
      "4\n",
      "5\n"
     ]
    }
   ],
   "source": [
    "# unique = lambda input: len([(item for item in input)]) if len(input) > 1 else 0\n",
    "unique = lambda input: len(set(input)) if len(set(input)) > 0 else 0\n",
    "\n",
    "print(unique(\"12345\"))\n",
    "print(unique(\"\"))\n",
    "print(unique(\"abbadabbadoo\"))\n",
    "print(unique([1,2,3,4,5,5,5,5,5]))"
   ]
  },
  {
   "cell_type": "markdown",
   "id": "earlier-community",
   "metadata": {},
   "source": [
    "#### Question 4"
   ]
  },
  {
   "cell_type": "markdown",
   "id": "criminal-heritage",
   "metadata": {},
   "source": [
    "Write a function that receives a string as an argument (defaults to an empty string) and returns a dictionary with the unique words and their frequency."
   ]
  },
  {
   "cell_type": "markdown",
   "id": "loose-brooks",
   "metadata": {},
   "source": [
    "For example, for a string such as:\n",
    "\n",
    "```\n",
    "This is the first sentence. This is the scecond sentence. This is not the fourth sentence, it is the third sentence.\n",
    "```\n",
    "\n",
    "the result of the function should be:"
   ]
  },
  {
   "cell_type": "code",
   "execution_count": 1,
   "id": "middle-public",
   "metadata": {},
   "outputs": [],
   "source": [
    "result = {\n",
    "    'This': 3,\n",
    "    'is': 4,\n",
    "    'the': 4,\n",
    "    'first': 1,\n",
    "    'sentence': 4,\n",
    "    'scecond': 1,\n",
    "    'not': 1,\n",
    "    'fourth': 1,\n",
    "    'it': 1,\n",
    "    'third': 1\n",
    "}"
   ]
  },
  {
   "cell_type": "markdown",
   "id": "sonic-civilization",
   "metadata": {},
   "source": [
    "You may assume that word separators are limited to spaces, commas, and periods (no newline characters)."
   ]
  },
  {
   "cell_type": "markdown",
   "id": "finished-collar",
   "metadata": {},
   "source": [
    "Hint: You will want to split based on some character. Problem is that we really need to split based on three different characters: spaces, commas and periods. One approach would be to replace all commas and periods with spaces and then split on spaces."
   ]
  },
  {
   "cell_type": "code",
   "execution_count": 82,
   "id": "5763b4bf",
   "metadata": {},
   "outputs": [
    {
     "name": "stdout",
     "output_type": "stream",
     "text": [
      "['This', 'is', 'the', 'first', 'sentence', '', 'This', 'is', 'the', 'scecond', 'sentence', '']\n"
     ]
    }
   ],
   "source": [
    "def tally(str = ''):\n",
    "    counter = {}\n",
    "    new_string = list(str)\n",
    "    for pos, item in enumerate(new_string):\n",
    "        if item == \".\" or item == \",\":\n",
    "            new_string[pos] = \" \"\n",
    "    joined = \"\".join(new_string)\n",
    "    print(joined.split(\" \"))\n",
    "#     tallied = {\n",
    "#         element:len([word for word in new_string if word == element])\n",
    "#         for element in set(joined)\n",
    "#     }\n",
    "#     print(tallied)\n",
    "            \n",
    " \n",
    "tally(\"This is the first sentence. This is the scecond sentence.\")\n",
    "    "
   ]
  }
 ],
 "metadata": {
  "kernelspec": {
   "display_name": "Python 3 (ipykernel)",
   "language": "python",
   "name": "python3"
  },
  "language_info": {
   "codemirror_mode": {
    "name": "ipython",
    "version": 3
   },
   "file_extension": ".py",
   "mimetype": "text/x-python",
   "name": "python",
   "nbconvert_exporter": "python",
   "pygments_lexer": "ipython3",
   "version": "3.11.4"
  }
 },
 "nbformat": 4,
 "nbformat_minor": 5
}

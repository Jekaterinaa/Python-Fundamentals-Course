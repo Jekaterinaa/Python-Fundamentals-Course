{
 "cells": [
  {
   "cell_type": "markdown",
   "id": "corporate-husband",
   "metadata": {},
   "source": [
    "### Solutions"
   ]
  },
  {
   "cell_type": "markdown",
   "id": "romance-tracker",
   "metadata": {},
   "source": [
    "#### Question 1"
   ]
  },
  {
   "cell_type": "markdown",
   "id": "empty-slovenia",
   "metadata": {},
   "source": [
    "Use a dictionary to count the frequency of the characters `a-z A-Z` in a given string.\n",
    "\n",
    "You should write your code to be as general as possible, so that it will work with any string of any given length.\n",
    "\n",
    "Your resulting dictionary should only contain keys for characters that occured at least once (i.e. no zero count characters should be present.)\n",
    "\n",
    "Hint: you will probably want to use the `ord()` function that we studied earlier along with the unicode character codes for `a`, `z`, `A` and `Z`."
   ]
  },
  {
   "cell_type": "markdown",
   "id": "thousand-handling",
   "metadata": {},
   "source": [
    "For example, if the given string is:\n",
    "\n",
    "```\n",
    "s = 'Aa, Bb - A a B C'\n",
    "```\n",
    "\n",
    "then your resulting dictionary should be:\n",
    "\n",
    "```\n",
    "{\n",
    "    'A': 2, \n",
    "    'a': 2, \n",
    "    'B': 2, \n",
    "    'b': 1, \n",
    "    'C': 1\n",
    "}\n",
    "```\n",
    "\n",
    "(Note that the order of the keys in the dictionary is not important)"
   ]
  },
  {
   "cell_type": "markdown",
   "id": "considerable-orchestra",
   "metadata": {},
   "source": [
    "Here are two sample strings you can use:"
   ]
  },
  {
   "cell_type": "code",
   "execution_count": 67,
   "id": "baking-logic",
   "metadata": {},
   "outputs": [
    {
     "name": "stdout",
     "output_type": "stream",
     "text": [
      "{'A': 1, 'B': 1, 'C': 1, 'D': 0, 'E': 0, 'F': 0, 'G': 0, 'H': 0, 'I': 0, 'J': 1, 'K': 0, 'L': 0, 'M': 0, 'N': 1, 'O': 0, 'P': 0, 'Q': 0, 'R': 0, 'S': 0, 'T': 2, 'U': 0, 'V': 0, 'W': 0, 'X': 0, 'Y': 0, 'Z': 0, 'a': 23, 'b': 7, 'c': 10, 'd': 4, 'e': 27, 'f': 4, 'g': 6, 'h': 11, 'i': 17, 'j': 0, 'k': 0, 'l': 12, 'm': 6, 'n': 20, 'o': 31, 'p': 7, 'q': 0, 'r': 12, 's': 9, 't': 21, 'u': 3, 'v': 1, 'w': 2, 'x': 1, 'y': 2, 'z': 0}\n"
     ]
    }
   ],
   "source": [
    "s1 = \"\"\"\n",
    "“'And' and 'or' are the basic operations of logic. Together with 'no' (the logical operation \n",
    "of negation) they are a complete set of basic logical operations — all other logical \n",
    "operations, no matter how complex, can be obtained by suitable combinations of these.” \n",
    "― John von Neumann, The Computer and the Brain\n",
    "\"\"\"\n",
    "\n",
    "s2 = \"\"\"\n",
    "Lorem ipsum dolor sit amet, consectetur adipiscing elit, sed do eiusmod tempor incididunt ut \n",
    "labore et dolore magna aliqua. Ut enim ad minim veniam, quis nostrud exercitation ullamco laboris \n",
    "nisi ut aliquip ex ea commodo consequat. Duis aute irure dolor in reprehenderit in voluptate velit \n",
    "esse cillum dolore eu fugiat nulla pariatur. Excepteur sint occaecat cupidatat non proident, sunt \n",
    "in culpa qui officia deserunt mollit anim id est laborum.\n",
    "\"\"\"\n",
    "\n",
    "letter_range = range(ord('A'), ord('z') + 1)\n",
    "aplhabet = list(letter_range)\n",
    "char_dict = {}\n",
    "\n",
    "for num in char_counter:\n",
    "    if num not in range(91,97):\n",
    "        char_dict[chr(num)] = 0\n",
    "    \n",
    "for char in s1:\n",
    "    if ord(char) >= 65 and ord(char) <= 122:\n",
    "        if ord(char) <= 90 or ord(char) >= 97:\n",
    "            char_dict[char] += 1\n",
    "            \n",
    "print(char_dict)"
   ]
  },
  {
   "cell_type": "markdown",
   "id": "double-engine",
   "metadata": {},
   "source": [
    "#### Question 2"
   ]
  },
  {
   "cell_type": "markdown",
   "id": "finnish-villa",
   "metadata": {},
   "source": [
    "Given the following dictionaries:"
   ]
  },
  {
   "cell_type": "code",
   "execution_count": 70,
   "id": "racial-medline",
   "metadata": {},
   "outputs": [
    {
     "name": "stdout",
     "output_type": "stream",
     "text": [
      "['a', 'b', 'c', 'd', 'e', 'f', 'g']\n",
      "[10, 20, 30, 100, 200, 30, 40]\n"
     ]
    }
   ],
   "source": [
    "d1 = {'a': 10, 'b': 20, 'c': 30}\n",
    "d2 = {'d': 100, 'e': 200, 'f': 300}\n",
    "d3 = {'f': 30, 'g': 40}\n",
    "\n",
    "keys = []\n",
    "values = []\n",
    "\n",
    "d1.update(d2)\n",
    "d1.update(d3)\n",
    "\n",
    "for key, value in d1.items():\n",
    "    keys.append(key)\n",
    "    values.append(value)\n",
    "    \n",
    "print(keys)\n",
    "print(values)"
   ]
  },
  {
   "cell_type": "markdown",
   "id": "north-information",
   "metadata": {},
   "source": [
    "Construct two lists, one containing all the keys of both dictionaries, and one containing all the values of each dictionary. (It is OK for values or keys to be repeated in the lists)."
   ]
  },
  {
   "cell_type": "markdown",
   "id": "automotive-railway",
   "metadata": {},
   "source": [
    "In the example above you should end up with two lists containing the elements:\n",
    "\n",
    "```\n",
    "'a', 'b', 'c', 'd', 'e', 'f', 'f', 'g'\n",
    "```\n",
    "\n",
    "and\n",
    "\n",
    "```\n",
    "10, 20, 30, 100, 200, 300, 30, 40\n",
    "```"
   ]
  },
  {
   "cell_type": "markdown",
   "id": "military-tuning",
   "metadata": {},
   "source": [
    "Note that the order in which the elements appear in each list is not important."
   ]
  },
  {
   "cell_type": "markdown",
   "id": "hawaiian-proxy",
   "metadata": {},
   "source": [
    "#### Question 3"
   ]
  },
  {
   "cell_type": "markdown",
   "id": "cardiac-contractor",
   "metadata": {},
   "source": [
    "In this example, suppose you have a grade book designed as follows:"
   ]
  },
  {
   "cell_type": "code",
   "execution_count": 72,
   "id": "decreased-dress",
   "metadata": {},
   "outputs": [
    {
     "name": "stdout",
     "output_type": "stream",
     "text": [
      "{'John': [100, 90, 95, 98], 'Eric': [99, 86, 84, 92], 'Michael': [90, 89, 85]}\n"
     ]
    }
   ],
   "source": [
    "grades = {\n",
    "    'John': [90, 95, 98],\n",
    "    'Eric': [86, 84, 92],\n",
    "    'Michael': [90, 89, 85]\n",
    "}\n",
    "\n",
    "exam = {\n",
    "    'Eric': 99,\n",
    "    'John': 100\n",
    "}\n",
    "\n",
    "# for student, grade in exam.items():\n",
    "#     grades[student].insert(0,grade) if grade != None else grades[student].insert(0,None)\n",
    "\n",
    "for student in grades:\n",
    "    grades[student].insert(0, exame[student]) if exam.get(student) != None els\n",
    "    \n",
    "print(grades)"
   ]
  },
  {
   "cell_type": "markdown",
   "id": "alleged-relevance",
   "metadata": {},
   "source": [
    "This grade book is a dictionary that consists of the student's name as the key, and the value is a list representing results for a series of tests, from most recent to oldest."
   ]
  },
  {
   "cell_type": "markdown",
   "id": "hidden-crystal",
   "metadata": {},
   "source": [
    "A new exam has just been graded, and you receive the grades for that specific exam also as a dictionary:"
   ]
  },
  {
   "cell_type": "code",
   "execution_count": 4,
   "id": "acceptable-clinic",
   "metadata": {},
   "outputs": [],
   "source": [
    "exam = {\n",
    "    'Eric': 99,\n",
    "    'John': 100\n",
    "}"
   ]
  },
  {
   "cell_type": "markdown",
   "id": "interracial-florence",
   "metadata": {},
   "source": [
    "Write code that updates the grades dictionary by adding the latest test result to the beginning of each list corresponding to the student.\n",
    "\n",
    "If the new exam grade is missing for a student, assign the value `None` as the latest grade in the `grades` dictionary."
   ]
  },
  {
   "cell_type": "markdown",
   "id": "judicial-release",
   "metadata": {},
   "source": [
    "For the data given above, your `grades` dictionary should now contain the following information:\n",
    "\n",
    "```\n",
    "{\n",
    "    'John': [100, 90, 95, 98],\n",
    "    'Eric': [99, 86, 84, 92],\n",
    "    'Michael': [None, 90, 89, 85]\n",
    "}\n",
    "```"
   ]
  }
 ],
 "metadata": {
  "kernelspec": {
   "display_name": "Python 3 (ipykernel)",
   "language": "python",
   "name": "python3"
  },
  "language_info": {
   "codemirror_mode": {
    "name": "ipython",
    "version": 3
   },
   "file_extension": ".py",
   "mimetype": "text/x-python",
   "name": "python",
   "nbconvert_exporter": "python",
   "pygments_lexer": "ipython3",
   "version": "3.11.4"
  }
 },
 "nbformat": 4,
 "nbformat_minor": 5
}
